{
 "cells": [
  {
   "cell_type": "code",
   "execution_count": 36,
   "metadata": {},
   "outputs": [],
   "source": [
    "import numpy as np\n",
    "import seaborn as sns\n",
    "import matplotlib.pyplot as plt\n",
    "%matplotlib inline\n",
    "\n",
    "def MAP_Elite(n_legs):\n",
    "    P1 = np.zeros([5, 5])\n",
    "    C1 = np.zeros([6, n_legs])\n",
    "    C2 = np.zeros([6, n_legs])\n",
    "    P2 = np.zeros([5, 5])\n",
    "    #for i in range(5):\n",
    "     #   for j in range(5):\n",
    "      #      C1[i][j] = C2\n",
    "    \n",
    "    #P = [[P1, P2], [P2, P1]]\n",
    "    #C = [[C1, C2], [C2, C1]]\n",
    "    \n",
    "    P = P1\n",
    "    C_new = [C1, C1, C1, C1, C1]\n",
    "    C = [C_new, C_new, C_new, C_new, C_new]\n",
    "    \n",
    "    #P_discrete = \n",
    "    \n",
    "    #There are 6 parameters for each leg (i1 , i2 , i1 , i2 , i1 ,i2 ), \n",
    "    #therefore each controller is fully described by 36 parameters.\n",
    "    # Each parameter can have one of these possible values: 0, 0.05, 0.1, ... 0.95, 1.\n",
    "    \n",
    "    \n",
    "    #print(len(P[0]))\n",
    "    \n",
    "    for i in range(1, 4000):\n",
    "        if (i < 40):\n",
    "            c_prim = random_controller()\n",
    "        else:\n",
    "            c = random_selec(C)\n",
    "            c_prim = random_var_v2(c)\n",
    "        X = behaviour_descr(simulation(c_prim))\n",
    "        x_prim_leg_1, x_prim_leg_2 = int(X[0]), int(X[1]) \n",
    "        p_prim = performance(simulation(c_prim))\n",
    "        #print(int(x_prim_leg_1))\n",
    "        if(P[x_prim_leg_1][x_prim_leg_2] < p_prim):\n",
    "            P[x_prim_leg_1][x_prim_leg_2] = p_prim  \n",
    "            C[x_prim_leg_1][x_prim_leg_2] = c_prim\n",
    "        #heat_map = sns.heatmap(Perf, cmap=\"YlGnBu\")\n",
    "    \n",
    "    return P, C\n",
    "\n",
    "\n",
    "def random_controller():\n",
    "    rand_array = np.arange(0, 1, 0.05)\n",
    "    controller = np.zeros([6, 2])\n",
    "    proba = np.empty(rand_array.size)\n",
    "    proba.fill(0.05)\n",
    "    #index = np.random.choice(0, 1)\n",
    "    #print(contr1[2])\n",
    "    #contr2 = np.zeros([6, 6])\n",
    "    #controller = [[contr1, contr2], [contr2, contr1]]\n",
    "    for i in range(2):\n",
    "        seq = np.random.choice(rand_array, 6, replace = False, p = proba)\n",
    "        for j in range(6):\n",
    "            controller[j][i] = seq[j]\n",
    "    return controller\n",
    "\n",
    "def random_selec(C):\n",
    "    selected_controller = C[np.random.choice([0, len(C[0]) - 1])][np.random.choice([0, len(C[0]) - 1])]\n",
    "    return selected_controller\n",
    "\n",
    "def random_var(control):\n",
    "    index = np.random.rand([0, len(contr) - 1])\n",
    "    for i in range(len(control)):\n",
    "        if(index + 1 < len(contr)):\n",
    "            control[i][index], control[i][index + 1] = control[i][index + 1], control[i][index] \n",
    "        else :\n",
    "            control[i][index], control[i][index - 1] = control[i][index - 1], control[i][index] \n",
    "    return control\n",
    "\n",
    "def random_var_v2(control):\n",
    "    index = np.random.choice([0, len(control[0]) - 1])\n",
    "    rand_array = np.arange(0, 1, 0.05)\n",
    "    #controller = np.zeros([6, 6])\n",
    "    proba = np.empty(rand_array.size)\n",
    "    proba.fill(0.05)\n",
    "    for i in range(len(control[1])):\n",
    "        control[index][i] = np.random.choice(rand_array, 1, replace = False, p = proba)\n",
    "    return control\n",
    "\n",
    "def simulation(c_prim):\n",
    "    contact = [0, 1]\n",
    "    legs = len(c_prim[1])\n",
    "    p = 1.5 * np.random.randn(300) + 2\n",
    "    on_ground = np.zeros([300, legs])\n",
    "    for i in range(legs):\n",
    "        for j in range(300):\n",
    "            #on_ground[j][i] = np.random.choice(contact, 1, replace=True, p = [0.05, 0.95])\n",
    "            if(p[j] < 1.5):\n",
    "                on_ground[j][i] = 0\n",
    "            else :\n",
    "                on_ground[j][i] = 1\n",
    "    return on_ground\n",
    "\n",
    "def behaviour_descr(on_ground):\n",
    "    # 1 : contact\n",
    "    # 0 : no contact\n",
    "    # The result is 6 Boolean time series (Ci for the ith leg).\n",
    "    legs = len(on_ground[1])\n",
    "    x = np.zeros(legs)\n",
    "    x2 = np.zeros(legs)\n",
    "    numTimesteps = 300\n",
    "    \n",
    "    for j in range(legs):\n",
    "        for i in range(numTimesteps):\n",
    "            x[j] += on_ground[i][j] / numTimesteps\n",
    "            #print(x[j])\n",
    "            \n",
    "        #print(x[j])\n",
    "    #x = np.mean(x)\n",
    "    \n",
    "    for j in range(legs):\n",
    "        x[j] = np.round(x[j], 1)\n",
    "        if(x[j] < 0.10):\n",
    "            x[j] = 0\n",
    "        elif(x[j] < 0.35):\n",
    "            x[j] = 1\n",
    "        elif(x[j] < 0.65):\n",
    "            x[j] = 2\n",
    "        elif(x[j] < 0.85):\n",
    "            x[j] = 3\n",
    "        else :\n",
    "            x[j] = 4\n",
    "            \n",
    "    \n",
    "    #print(\"X = \", x)\n",
    "    return x\n",
    "\n",
    "def performance(on_ground):\n",
    "    summ = 0\n",
    "    #perf = distance/time\n",
    "    #for i in range(len(on_ground[0])):\n",
    "    performances_high = np.arange(5, 15, 0.5)\n",
    "    performances_low = np.arange(1, 3, 0.5)\n",
    "    for j in range(len(on_ground[1])):\n",
    "        for i in range(len(on_ground)):\n",
    "            summ += on_ground[i][j]\n",
    "        if(summ > 170):\n",
    "            #print(summ)\n",
    "            perf = np.random.choice(performances_low, 1)\n",
    "        else:\n",
    "            #print(summ)\n",
    "            perf = np.random.choice(performances_high, 1)\n",
    "    \n",
    "    return perf"
   ]
  },
  {
   "cell_type": "code",
   "execution_count": 44,
   "metadata": {},
   "outputs": [],
   "source": [
    "Perf, Control = MAP_Elite(2)\n",
    "Perf /= 15"
   ]
  },
  {
   "cell_type": "code",
   "execution_count": 45,
   "metadata": {},
   "outputs": [
    {
     "data": {
      "image/png": "[encoded data removed]",
      "text/plain": [
       "<Figure size 432x288 with 2 Axes>"
      ]
     },
     "metadata": {
      "needs_background": "light"
     },
     "output_type": "display_data"
    }
   ],
   "source": [
    "heat_map = sns.heatmap(Perf, vmax = 1, cmap=\"YlGnBu\", annot=True)"
   ]
  },
  {
   "cell_type": "code",
   "execution_count": 143,
   "metadata": {},
   "outputs": [
    {
     "data": {
      "text/plain": [
       "64"
      ]
     },
     "execution_count": 143,
     "metadata": {},
     "output_type": "execute_result"
    }
   ],
   "source": [
    "################################## Multiples tests personnels ############################################\n",
    "\n",
    "b = np.array([\n",
    "            [[2, 5, 3, 1], [1, 3, 9, 8], [1, 2, 3, 5], [0, 4, 11, 12]], \n",
    "            [[1, 2, 3, 5], [0, 4, 11, 12], [1, 2, 3, 5], [0, 4, 11, 12]],\n",
    "            [[1, 2, 3, 5], [0, 4, 11, 12], [1, 2, 3, 5], [0, 4, 11, 12]],\n",
    "            [[1, 2, 3, 5], [0, 4, 11, 12], [1, 2, 3, 5], [0, 4, 11, 12]]\n",
    "            \n",
    "            ])\n",
    "b.size"
   ]
  },
  {
   "cell_type": "code",
   "execution_count": 364,
   "metadata": {},
   "outputs": [
    {
     "data": {
      "text/plain": [
       "<matplotlib.axes._subplots.AxesSubplot at 0x2795a9344f0>"
      ]
     },
     "execution_count": 364,
     "metadata": {},
     "output_type": "execute_result"
    },
    {
     "data": {
      "image/png": "[encoded data removed]",
      "text/plain": [
       "<Figure size 432x288 with 1 Axes>"
      ]
     },
     "metadata": {
      "needs_background": "light"
     },
     "output_type": "display_data"
    }
   ],
   "source": [
    "\n",
    "p = 1.5 * np.random.randn(300) + 2\n",
    "x = 2 * np.random.randn(10) + 1\n",
    "#plt.hist(x, bins=50)\n",
    "#plt.gca().set(title='Frequency Histogram', ylabel='Frequency');\n",
    "sns.distplot(p)\n",
    "#print(p)"
   ]
  },
  {
   "cell_type": "code",
   "execution_count": 302,
   "metadata": {},
   "outputs": [
    {
     "data": {
      "text/plain": [
       "0.0"
      ]
     },
     "execution_count": 302,
     "metadata": {},
     "output_type": "execute_result"
    }
   ],
   "source": [
    "P1 = np.zeros([5, 5])\n",
    "C1 = np.zeros([6, 2])\n",
    "C2 = np.zeros([6, 2])\n",
    "P2 = np.zeros([5, 5])\n",
    "C_new = [C1, C1, C1, C1, C1]\n",
    "\n",
    "C = [C_new, C_new, C_new, C_new, C_new]\n",
    "P1[4][4]"
   ]
  },
  {
   "cell_type": "code",
   "execution_count": 28,
   "metadata": {},
   "outputs": [
    {
     "name": "stdout",
     "output_type": "stream",
     "text": [
      "2\n"
     ]
    }
   ],
   "source": [
    "rand_array = np.arange(0, 1, 0.05)\n",
    "controller = np.zeros([6, 2])\n",
    "#print(controller)\n",
    "proba = np.empty(rand_array.size)\n",
    "proba.fill(0.05)\n",
    "index = np.random.choice([0, 1])\n",
    "    #print(contr1[2])\n",
    "    #contr2 = np.zeros([6, 6])\n",
    "    #controller = [[contr1, contr2], [contr2, contr1]]\n",
    "for i in range(2):\n",
    "    seq = np.random.choice(rand_array, 6, replace = False, p = proba)\n",
    "    for j in range(6):\n",
    "        controller[j][i] = seq[j]\n",
    "    #controller[i][1] = np.random.choice(rand_array, 6, replace = False, p = proba)\n",
    "\n",
    "print(len(controller[1]))"
   ]
  },
  {
   "cell_type": "code",
   "execution_count": 35,
   "metadata": {},
   "outputs": [
    {
     "data": {
      "text/plain": [
       "300"
      ]
     },
     "execution_count": 35,
     "metadata": {},
     "output_type": "execute_result"
    }
   ],
   "source": [
    "contact = [0, 1]\n",
    "legs = len(controller[1])\n",
    "p = 1.5 * np.random.randn(300) + 2\n",
    "on_ground = np.zeros([300, legs])\n",
    "for i in range(legs):\n",
    "    for j in range(300):\n",
    "      #on_ground[j][i] = np.random.choice(contact, 1, replace=True, p = [0.05, 0.95])\n",
    "        if(p[j] < 1.5):\n",
    "            on_ground[j][i] = 0\n",
    "        else :\n",
    "            on_ground[j][i] = 1\n",
    "\n",
    "len(on_ground)"
   ]
  },
  {
   "cell_type": "code",
   "execution_count": null,
   "metadata": {},
   "outputs": [],
   "source": []
  }
 ],
 "metadata": {
  "kernelspec": {
   "display_name": "Python 3",
   "language": "python",
   "name": "python3"
  },
  "language_info": {
   "codemirror_mode": {
    "name": "ipython",
    "version": 3
   },
   "file_extension": ".py",
   "mimetype": "text/x-python",
   "name": "python",
   "nbconvert_exporter": "python",
   "pygments_lexer": "ipython3",
   "version": "3.8.3"
  }
 },
 "nbformat": 4,
 "nbformat_minor": 4
}
